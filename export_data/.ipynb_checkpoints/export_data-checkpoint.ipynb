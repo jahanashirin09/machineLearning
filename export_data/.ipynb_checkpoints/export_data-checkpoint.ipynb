{
 "cells": [
  {
   "cell_type": "code",
   "execution_count": 9,
   "id": "3695463a-8518-4926-bc41-6711b62d7e2f",
   "metadata": {},
   "outputs": [],
   "source": [
    "import pandas as pd"
   ]
  },
  {
   "cell_type": "code",
   "execution_count": 10,
   "id": "0d6d2a43-635b-41dc-868c-97961833693a",
   "metadata": {},
   "outputs": [],
   "source": [
    "data={'products':['mobile','laptop','tv'],'prices':[100,200,300]}"
   ]
  },
  {
   "cell_type": "code",
   "execution_count": 11,
   "id": "0dda0041-a6d5-4d35-b615-7ca97cf7c04c",
   "metadata": {},
   "outputs": [],
   "source": [
    "dataset=pd.DataFrame(data)"
   ]
  },
  {
   "cell_type": "code",
   "execution_count": 12,
   "id": "33febe95-c3da-44e0-9399-670db5696540",
   "metadata": {},
   "outputs": [],
   "source": [
    "dataset.to_csv('/Users/bititudetechnologies/Desktop/jahana/machine learning/export_data/my_data.csv',index=False,header=True)"
   ]
  },
  {
   "cell_type": "code",
   "execution_count": 13,
   "id": "4f6e1107-431f-4263-ad98-cdd3dac2e73c",
   "metadata": {},
   "outputs": [
    {
     "name": "stdout",
     "output_type": "stream",
     "text": [
      "  products  prices\n",
      "0   mobile     100\n",
      "1   laptop     200\n",
      "2       tv     300\n"
     ]
    }
   ],
   "source": [
    "print(dataset)"
   ]
  },
  {
   "cell_type": "code",
   "execution_count": null,
   "id": "ed798982-fd60-4a8b-8082-927d70b0a8a7",
   "metadata": {},
   "outputs": [],
   "source": []
  },
  {
   "cell_type": "code",
   "execution_count": null,
   "id": "7026ea15-6a22-423d-b138-fe9ee1dfdef3",
   "metadata": {},
   "outputs": [],
   "source": []
  }
 ],
 "metadata": {
  "kernelspec": {
   "display_name": "Python 3 (ipykernel)",
   "language": "python",
   "name": "python3"
  },
  "language_info": {
   "codemirror_mode": {
    "name": "ipython",
    "version": 3
   },
   "file_extension": ".py",
   "mimetype": "text/x-python",
   "name": "python",
   "nbconvert_exporter": "python",
   "pygments_lexer": "ipython3",
   "version": "3.9.6"
  }
 },
 "nbformat": 4,
 "nbformat_minor": 5
}
