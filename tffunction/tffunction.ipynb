{
 "cells": [
  {
   "cell_type": "code",
   "execution_count": 3,
   "id": "81ea733c-7b9c-462c-9169-f532ccd27876",
   "metadata": {},
   "outputs": [],
   "source": [
    "import tensorflow as tf\n",
    "import time\n",
    "from datetime import datetime"
   ]
  },
  {
   "cell_type": "code",
   "execution_count": 5,
   "id": "e8849d2a-4f15-46ba-9a44-55fa26184f8b",
   "metadata": {},
   "outputs": [],
   "source": [
    "@tf.function()\n",
    "def function(x):\n",
    "    a=tf.constant([[1],[2]])\n",
    "    b=tf.constant(3)\n",
    "    return a+b"
   ]
  },
  {
   "cell_type": "code",
   "execution_count": 13,
   "id": "091e2317-5565-4540-9a49-c0b8550684b8",
   "metadata": {},
   "outputs": [
    {
     "name": "stdout",
     "output_type": "stream",
     "text": [
      "WARNING:tensorflow:Trace already enabled\n",
      "WARNING:tensorflow:Ignoring `profiler_outdir` passed to trace_export(). Please pass it to trace_on() instead.\n"
     ]
    },
    {
     "ename": "UnavailableError",
     "evalue": "Cannot export profiling results. No profiler is running.",
     "output_type": "error",
     "traceback": [
      "\u001b[0;31m---------------------------------------------------------------------------\u001b[0m",
      "\u001b[0;31mUnavailableError\u001b[0m                          Traceback (most recent call last)",
      "Cell \u001b[0;32mIn[13], line 7\u001b[0m\n\u001b[1;32m      5\u001b[0m z\u001b[38;5;241m=\u001b[39mfunction(\u001b[38;5;241m2\u001b[39m)\n\u001b[1;32m      6\u001b[0m \u001b[38;5;28;01mwith\u001b[39;00m writer\u001b[38;5;241m.\u001b[39mas_default():\n\u001b[0;32m----> 7\u001b[0m     \u001b[43mtf\u001b[49m\u001b[38;5;241;43m.\u001b[39;49m\u001b[43msummary\u001b[49m\u001b[38;5;241;43m.\u001b[39;49m\u001b[43mtrace_export\u001b[49m\u001b[43m(\u001b[49m\n\u001b[1;32m      8\u001b[0m \u001b[43m        \u001b[49m\u001b[43mname\u001b[49m\u001b[38;5;241;43m=\u001b[39;49m\u001b[38;5;124;43m\"\u001b[39;49m\u001b[38;5;124;43mfunction trace\u001b[39;49m\u001b[38;5;124;43m\"\u001b[39;49m\u001b[43m,\u001b[49m\n\u001b[1;32m      9\u001b[0m \u001b[43m        \u001b[49m\u001b[43mstep\u001b[49m\u001b[38;5;241;43m=\u001b[39;49m\u001b[38;5;241;43m0\u001b[39;49m\u001b[43m,\u001b[49m\n\u001b[1;32m     10\u001b[0m \u001b[43m        \u001b[49m\u001b[43mprofiler_outdir\u001b[49m\u001b[38;5;241;43m=\u001b[39;49m\u001b[43mlogdir\u001b[49m\u001b[43m)\u001b[49m\n",
      "File \u001b[0;32m~/Library/Python/3.9/lib/python/site-packages/tensorflow/python/ops/summary_ops_v2.py:1438\u001b[0m, in \u001b[0;36mtrace_export\u001b[0;34m(name, step, profiler_outdir)\u001b[0m\n\u001b[1;32m   1433\u001b[0m   \u001b[38;5;28;01mif\u001b[39;00m profiler_outdir:\n\u001b[1;32m   1434\u001b[0m     logging\u001b[38;5;241m.\u001b[39mwarn(\n\u001b[1;32m   1435\u001b[0m         \u001b[38;5;124m\"\u001b[39m\u001b[38;5;124mIgnoring `profiler_outdir` passed to trace_export(). Please pass it\u001b[39m\u001b[38;5;124m\"\u001b[39m\n\u001b[1;32m   1436\u001b[0m         \u001b[38;5;124m\"\u001b[39m\u001b[38;5;124m to trace_on() instead.\u001b[39m\u001b[38;5;124m\"\u001b[39m\n\u001b[1;32m   1437\u001b[0m     )\n\u001b[0;32m-> 1438\u001b[0m   \u001b[43m_profiler\u001b[49m\u001b[38;5;241;43m.\u001b[39;49m\u001b[43mstop\u001b[49m\u001b[43m(\u001b[49m\u001b[43m)\u001b[49m\n\u001b[1;32m   1440\u001b[0m trace_off()\n",
      "File \u001b[0;32m~/Library/Python/3.9/lib/python/site-packages/tensorflow/python/profiler/profiler_v2.py:144\u001b[0m, in \u001b[0;36mstop\u001b[0;34m(save)\u001b[0m\n\u001b[1;32m    142\u001b[0m \u001b[38;5;28;01mwith\u001b[39;00m _profiler_lock:\n\u001b[1;32m    143\u001b[0m   \u001b[38;5;28;01mif\u001b[39;00m _profiler \u001b[38;5;129;01mis\u001b[39;00m \u001b[38;5;28;01mNone\u001b[39;00m:\n\u001b[0;32m--> 144\u001b[0m     \u001b[38;5;28;01mraise\u001b[39;00m errors\u001b[38;5;241m.\u001b[39mUnavailableError(\n\u001b[1;32m    145\u001b[0m         \u001b[38;5;28;01mNone\u001b[39;00m, \u001b[38;5;28;01mNone\u001b[39;00m,\n\u001b[1;32m    146\u001b[0m         \u001b[38;5;124m'\u001b[39m\u001b[38;5;124mCannot export profiling results. No profiler is running.\u001b[39m\u001b[38;5;124m'\u001b[39m)\n\u001b[1;32m    147\u001b[0m   \u001b[38;5;28;01mif\u001b[39;00m save:\n\u001b[1;32m    148\u001b[0m     \u001b[38;5;28;01mtry\u001b[39;00m:\n",
      "\u001b[0;31mUnavailableError\u001b[0m: Cannot export profiling results. No profiler is running."
     ]
    }
   ],
   "source": [
    "stamp=datetime.now().strftime(\"%Y%m%d-%H%M%S\")\n",
    "logdir='logs/func/%s'%stamp\n",
    "writer=tf.summary.create_file_writer(logdir)\n",
    "tf.summary.trace_on(graph=True, profiler=True)\n",
    "z=function(2)\n",
    "with writer.as_default():\n",
    "    tf.summary.trace_export(\n",
    "        name=\"function trace\",\n",
    "        step=0,\n",
    "        profiler_outdir=logdir)\n"
   ]
  },
  {
   "cell_type": "code",
   "execution_count": 14,
   "id": "9dd04ac7-415b-4c9e-8793-e72978f5f8db",
   "metadata": {},
   "outputs": [
    {
     "data": {
      "text/plain": [
       "ERROR: Could not find `tensorboard`. Please ensure that your PATH\n",
       "contains an executable `tensorboard` program, or explicitly specify\n",
       "the path to a TensorBoard binary by setting the `TENSORBOARD_BINARY`\n",
       "environment variable."
      ]
     },
     "metadata": {},
     "output_type": "display_data"
    }
   ],
   "source": [
    "%load_ext tensorboard\n",
    "%tensorboard --logdir logs/func"
   ]
  },
  {
   "cell_type": "code",
   "execution_count": null,
   "id": "8a7e764c-0bf7-418a-afb7-700f6c5cf7a6",
   "metadata": {},
   "outputs": [],
   "source": []
  }
 ],
 "metadata": {
  "kernelspec": {
   "display_name": "Python 3 (ipykernel)",
   "language": "python",
   "name": "python3"
  },
  "language_info": {
   "codemirror_mode": {
    "name": "ipython",
    "version": 3
   },
   "file_extension": ".py",
   "mimetype": "text/x-python",
   "name": "python",
   "nbconvert_exporter": "python",
   "pygments_lexer": "ipython3",
   "version": "3.9.6"
  }
 },
 "nbformat": 4,
 "nbformat_minor": 5
}
