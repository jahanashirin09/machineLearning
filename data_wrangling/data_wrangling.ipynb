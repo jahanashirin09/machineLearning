{
 "cells": [
  {
   "cell_type": "code",
   "execution_count": 1,
   "id": "956fdf9e-5bd0-4ee7-8bd2-5aafc09b0453",
   "metadata": {},
   "outputs": [],
   "source": [
    "import pandas as pd\n"
   ]
  },
  {
   "cell_type": "code",
   "execution_count": 4,
   "id": "293e4c25-d7ed-494b-93dd-e28c3d8872c0",
   "metadata": {},
   "outputs": [],
   "source": [
    "data = {'Name': ['Jai', 'Princi', 'Gaurav','Anuj', 'Ravi', 'Natasha', 'Riya'],'Age': [17, 17, 18, 17,18, 17, 17],\n",
    "        'Gender': ['M', 'F', 'M', 'M', 'M', 'F', 'F'],'Marks': [90, 76, 'NaN', 74, 65, 'NaN', 71]}\n"
   ]
  },
  {
   "cell_type": "code",
   "execution_count": 5,
   "id": "66259dc2-60d5-4f44-a04d-27a1c1eeaa76",
   "metadata": {},
   "outputs": [
    {
     "name": "stdout",
     "output_type": "stream",
     "text": [
      "      Name  Age Gender Marks\n",
      "0      Jai   17      M    90\n",
      "1   Princi   17      F    76\n",
      "2   Gaurav   18      M   NaN\n",
      "3     Anuj   17      M    74\n",
      "4     Ravi   18      M    65\n",
      "5  Natasha   17      F   NaN\n",
      "6     Riya   17      F    71\n"
     ]
    }
   ],
   "source": [
    "df=pd.DataFrame(data)\n",
    "print(df)"
   ]
  },
  {
   "cell_type": "code",
   "execution_count": 7,
   "id": "ed034ad7-6b8b-4a9d-ab8b-c34c71f580d3",
   "metadata": {},
   "outputs": [
    {
     "name": "stdout",
     "output_type": "stream",
     "text": [
      "75.2\n"
     ]
    }
   ],
   "source": [
    "c=avg=0\n",
    "for x in df['Marks']:\n",
    "    if str(x).isnumeric():\n",
    "        c+=1\n",
    "        avg+=x\n",
    "avg/=c\n",
    "print(avg)\n"
   ]
  },
  {
   "cell_type": "markdown",
   "id": "d2dae55b-1010-458a-8354-93c50694da6d",
   "metadata": {},
   "source": [
    "replace the value"
   ]
  },
  {
   "cell_type": "code",
   "execution_count": 8,
   "id": "2969591c-9a23-48e3-879a-efa8249f7683",
   "metadata": {},
   "outputs": [
    {
     "name": "stderr",
     "output_type": "stream",
     "text": [
      "/var/folders/_3/zppq88ss4g11gnpt035s6vtr0000gn/T/ipykernel_56730/2478370321.py:1: FutureWarning: Downcasting behavior in `replace` is deprecated and will be removed in a future version. To retain the old behavior, explicitly call `result.infer_objects(copy=False)`. To opt-in to the future behavior, set `pd.set_option('future.no_silent_downcasting', True)`\n",
      "  df.replace(to_replace='NaN' ,value=avg)\n"
     ]
    },
    {
     "data": {
      "text/html": [
       "<div>\n",
       "<style scoped>\n",
       "    .dataframe tbody tr th:only-of-type {\n",
       "        vertical-align: middle;\n",
       "    }\n",
       "\n",
       "    .dataframe tbody tr th {\n",
       "        vertical-align: top;\n",
       "    }\n",
       "\n",
       "    .dataframe thead th {\n",
       "        text-align: right;\n",
       "    }\n",
       "</style>\n",
       "<table border=\"1\" class=\"dataframe\">\n",
       "  <thead>\n",
       "    <tr style=\"text-align: right;\">\n",
       "      <th></th>\n",
       "      <th>Name</th>\n",
       "      <th>Age</th>\n",
       "      <th>Gender</th>\n",
       "      <th>Marks</th>\n",
       "    </tr>\n",
       "  </thead>\n",
       "  <tbody>\n",
       "    <tr>\n",
       "      <th>0</th>\n",
       "      <td>Jai</td>\n",
       "      <td>17</td>\n",
       "      <td>M</td>\n",
       "      <td>90.0</td>\n",
       "    </tr>\n",
       "    <tr>\n",
       "      <th>1</th>\n",
       "      <td>Princi</td>\n",
       "      <td>17</td>\n",
       "      <td>F</td>\n",
       "      <td>76.0</td>\n",
       "    </tr>\n",
       "    <tr>\n",
       "      <th>2</th>\n",
       "      <td>Gaurav</td>\n",
       "      <td>18</td>\n",
       "      <td>M</td>\n",
       "      <td>75.2</td>\n",
       "    </tr>\n",
       "    <tr>\n",
       "      <th>3</th>\n",
       "      <td>Anuj</td>\n",
       "      <td>17</td>\n",
       "      <td>M</td>\n",
       "      <td>74.0</td>\n",
       "    </tr>\n",
       "    <tr>\n",
       "      <th>4</th>\n",
       "      <td>Ravi</td>\n",
       "      <td>18</td>\n",
       "      <td>M</td>\n",
       "      <td>65.0</td>\n",
       "    </tr>\n",
       "    <tr>\n",
       "      <th>5</th>\n",
       "      <td>Natasha</td>\n",
       "      <td>17</td>\n",
       "      <td>F</td>\n",
       "      <td>75.2</td>\n",
       "    </tr>\n",
       "    <tr>\n",
       "      <th>6</th>\n",
       "      <td>Riya</td>\n",
       "      <td>17</td>\n",
       "      <td>F</td>\n",
       "      <td>71.0</td>\n",
       "    </tr>\n",
       "  </tbody>\n",
       "</table>\n",
       "</div>"
      ],
      "text/plain": [
       "      Name  Age Gender  Marks\n",
       "0      Jai   17      M   90.0\n",
       "1   Princi   17      F   76.0\n",
       "2   Gaurav   18      M   75.2\n",
       "3     Anuj   17      M   74.0\n",
       "4     Ravi   18      M   65.0\n",
       "5  Natasha   17      F   75.2\n",
       "6     Riya   17      F   71.0"
      ]
     },
     "execution_count": 8,
     "metadata": {},
     "output_type": "execute_result"
    }
   ],
   "source": [
    "df.replace(to_replace='NaN' ,value=avg)"
   ]
  },
  {
   "cell_type": "code",
   "execution_count": 9,
   "id": "25d74a2f-f10a-4cd2-bdb5-ddc292604d11",
   "metadata": {},
   "outputs": [],
   "source": [
    "df['Gender']=df['Gender'].map({'M':0,'F':1})"
   ]
  },
  {
   "cell_type": "code",
   "execution_count": 10,
   "id": "b8dce6c7-3777-4e8a-b5f2-f0a947617756",
   "metadata": {},
   "outputs": [
    {
     "name": "stdout",
     "output_type": "stream",
     "text": [
      "      Name  Age  Gender Marks\n",
      "0      Jai   17       0    90\n",
      "1   Princi   17       1    76\n",
      "2   Gaurav   18       0   NaN\n",
      "3     Anuj   17       0    74\n",
      "4     Ravi   18       0    65\n",
      "5  Natasha   17       1   NaN\n",
      "6     Riya   17       1    71\n"
     ]
    }
   ],
   "source": [
    "print(df)"
   ]
  },
  {
   "cell_type": "code",
   "execution_count": null,
   "id": "8f430717-6f8c-438c-8c44-de56fec6f297",
   "metadata": {},
   "outputs": [],
   "source": []
  }
 ],
 "metadata": {
  "kernelspec": {
   "display_name": "Python 3 (ipykernel)",
   "language": "python",
   "name": "python3"
  },
  "language_info": {
   "codemirror_mode": {
    "name": "ipython",
    "version": 3
   },
   "file_extension": ".py",
   "mimetype": "text/x-python",
   "name": "python",
   "nbconvert_exporter": "python",
   "pygments_lexer": "ipython3",
   "version": "3.9.6"
  }
 },
 "nbformat": 4,
 "nbformat_minor": 5
}
