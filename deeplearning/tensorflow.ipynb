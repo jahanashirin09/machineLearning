{
 "cells": [
  {
   "cell_type": "code",
   "execution_count": 2,
   "id": "5ffc885a-aa88-4ca0-aaea-6a17cc45b1c6",
   "metadata": {},
   "outputs": [
    {
     "name": "stderr",
     "output_type": "stream",
     "text": [
      "/Users/bititudetechnologies/Library/Python/3.9/lib/python/site-packages/urllib3/__init__.py:35: NotOpenSSLWarning: urllib3 v2 only supports OpenSSL 1.1.1+, currently the 'ssl' module is compiled with 'LibreSSL 2.8.3'. See: https://github.com/urllib3/urllib3/issues/3020\n",
      "  warnings.warn(\n"
     ]
    }
   ],
   "source": [
    "import tensorflow as tf"
   ]
  },
  {
   "cell_type": "code",
   "execution_count": 3,
   "id": "0b2f966f-fdf6-418a-a21b-9e1bd17208a4",
   "metadata": {},
   "outputs": [
    {
     "name": "stdout",
     "output_type": "stream",
     "text": [
      "tf.Tensor(-8.323334, shape=(), dtype=float32)\n"
     ]
    }
   ],
   "source": [
    " print(tf.reduce_sum(tf.random.normal([1000, 1000])))"
   ]
  },
  {
   "cell_type": "code",
   "execution_count": 4,
   "id": "fdaef3e9-9596-4875-9efe-65f8c0ae50d4",
   "metadata": {},
   "outputs": [
    {
     "name": "stdout",
     "output_type": "stream",
     "text": [
      "[]\n"
     ]
    }
   ],
   "source": [
    "print(tf.config.list_physical_devices('GPU'))"
   ]
  },
  {
   "cell_type": "code",
   "execution_count": 5,
   "id": "32fbcae5-2c36-4d53-875f-cd9ec187a933",
   "metadata": {},
   "outputs": [
    {
     "name": "stdout",
     "output_type": "stream",
     "text": [
      "tf.Tensor([[4.]], shape=(1, 1), dtype=float32)\n"
     ]
    }
   ],
   "source": [
    "x=tf.constant(4,shape=(1,1),dtype=tf.float32)\n",
    "print(x)"
   ]
  },
  {
   "cell_type": "code",
   "execution_count": 6,
   "id": "aa042f45-ef7b-47eb-9a39-51b8ad1f5549",
   "metadata": {},
   "outputs": [
    {
     "name": "stdout",
     "output_type": "stream",
     "text": [
      "tf.Tensor(5, shape=(), dtype=int32)\n"
     ]
    }
   ],
   "source": [
    "y=tf.constant(5)\n",
    "print(y)"
   ]
  },
  {
   "cell_type": "code",
   "execution_count": 7,
   "id": "3708e803-ea99-4861-b016-a49cfffd797b",
   "metadata": {},
   "outputs": [
    {
     "ename": "AttributeError",
     "evalue": "module 'tensorflow' has no attribute 'contant'",
     "output_type": "error",
     "traceback": [
      "\u001b[0;31m---------------------------------------------------------------------------\u001b[0m",
      "\u001b[0;31mAttributeError\u001b[0m                            Traceback (most recent call last)",
      "Cell \u001b[0;32mIn[7], line 1\u001b[0m\n\u001b[0;32m----> 1\u001b[0m z\u001b[38;5;241m=\u001b[39m\u001b[43mtf\u001b[49m\u001b[38;5;241;43m.\u001b[39;49m\u001b[43mcontant\u001b[49m()\n\u001b[1;32m      2\u001b[0m \u001b[38;5;28mprint\u001b[39m(z)\n",
      "\u001b[0;31mAttributeError\u001b[0m: module 'tensorflow' has no attribute 'contant'"
     ]
    }
   ],
   "source": [
    "z=tf.contant()\n",
    "print(z)"
   ]
  },
  {
   "cell_type": "code",
   "execution_count": null,
   "id": "ac37b5ae-4faf-4a6c-85de-9ddbae9e5d2d",
   "metadata": {},
   "outputs": [],
   "source": [
    "tf.constant([[1,2,3],[4,5,6]],shape=(3,2))\n"
   ]
  },
  {
   "cell_type": "code",
   "execution_count": null,
   "id": "58b6d623-22b4-4f4d-808b-aeef636955dc",
   "metadata": {},
   "outputs": [],
   "source": [
    "a=tf.constant([[1,2],\n",
    "             [2,3],\n",
    "             [3,4]],shape=(3,2))\n",
    "a.shape\n"
   ]
  },
  {
   "cell_type": "markdown",
   "id": "aef7debd-54e8-44e7-a415-e5e540679de0",
   "metadata": {},
   "source": [
    "CHAGNE DATA TYPE"
   ]
  },
  {
   "cell_type": "code",
   "execution_count": 8,
   "id": "17a7e17e-f9f4-49eb-8e19-6bb6de40f1f7",
   "metadata": {},
   "outputs": [
    {
     "name": "stdout",
     "output_type": "stream",
     "text": [
      "<dtype: 'float32'>\n",
      "<dtype: 'int32'>\n"
     ]
    }
   ],
   "source": [
    "tf_float32=tf.constant(3.12345,tf.float32)\n",
    "tf_int=tf.cast(tf_float32,dtype=tf.int32)\n",
    "print(tf_float32.dtype)\n",
    "print(tf_int.dtype)"
   ]
  },
  {
   "cell_type": "markdown",
   "id": "2881e5a1-604f-4859-a741-c5b6eec09c0a",
   "metadata": {},
   "source": [
    "CREATING OPERATOR"
   ]
  },
  {
   "cell_type": "code",
   "execution_count": 9,
   "id": "7b071c07-bfb2-4644-90ce-935161640996",
   "metadata": {},
   "outputs": [
    {
     "name": "stdout",
     "output_type": "stream",
     "text": [
      "tf.Tensor([1.4142135], shape=(1,), dtype=float32)\n"
     ]
    }
   ],
   "source": [
    "x=tf.constant([2.0],tf.float32)\n",
    "print(tf.sqrt(x))"
   ]
  },
  {
   "cell_type": "code",
   "execution_count": 10,
   "id": "48de7dee-41d7-4fb1-bab5-8bffda5fcf3b",
   "metadata": {},
   "outputs": [
    {
     "name": "stdout",
     "output_type": "stream",
     "text": [
      "tf.Tensor([5 7 9], shape=(3,), dtype=int32)\n",
      "tf.Tensor([5 7 9], shape=(3,), dtype=int32)\n"
     ]
    }
   ],
   "source": [
    "x1=tf.constant([1,2,3])\n",
    "x2=tf.constant([4,5,6])\n",
    "z1=tf.add(x1,x2)\n",
    "print(z1)\n",
    "z2=x1+x2\n",
    "print(z2)"
   ]
  },
  {
   "cell_type": "code",
   "execution_count": 11,
   "id": "83610015-7bea-45a4-b03c-27269f34a5dd",
   "metadata": {},
   "outputs": [
    {
     "name": "stdout",
     "output_type": "stream",
     "text": [
      "tf.Tensor([ 4 10 18], shape=(3,), dtype=int32)\n"
     ]
    }
   ],
   "source": [
    "z3=tf.multiply(x1,x2)\n",
    "print(z3)"
   ]
  },
  {
   "cell_type": "code",
   "execution_count": 12,
   "id": "bb779864-eb57-48d7-ac7a-d1ceb456cc07",
   "metadata": {},
   "outputs": [
    {
     "name": "stdout",
     "output_type": "stream",
     "text": [
      "tf.Tensor(\n",
      "[[22 28 34]\n",
      " [40 52 64]], shape=(2, 3), dtype=int32)\n"
     ]
    }
   ],
   "source": [
    "b=tf.constant([[1,2,3],\n",
    "               [3,4,5]])\n",
    "c=tf.constant([[1,2,3],\n",
    "             [3,4,5],\n",
    "             [5,6,7]])\n",
    "d=tf.matmul(b,c)\n",
    "print(d)"
   ]
  },
  {
   "cell_type": "markdown",
   "id": "1281828e-0a0f-44b9-82a3-af371f2137be",
   "metadata": {},
   "source": [
    "INDEXING"
   ]
  },
  {
   "cell_type": "code",
   "execution_count": 13,
   "id": "68a3d757-3a58-48be-951a-0cb6cf4a5793",
   "metadata": {},
   "outputs": [
    {
     "name": "stdout",
     "output_type": "stream",
     "text": [
      "tf.Tensor([1 2 3 4 5 6 7 8], shape=(8,), dtype=int32)\n",
      "tf.Tensor([2 3 4 5 6 7 8], shape=(7,), dtype=int32)\n",
      "tf.Tensor([2 3], shape=(2,), dtype=int32)\n",
      "tf.Tensor([1 3 5 7], shape=(4,), dtype=int32)\n",
      "tf.Tensor([8 7 6 5 4 3 2 1], shape=(8,), dtype=int32)\n"
     ]
    }
   ],
   "source": [
    "a1=tf.constant([1,2,3,4,5,6,7,8])\n",
    "print(a1[:])\n",
    "print(a1[1::])\n",
    "print(a1[1:3])\n",
    "print(a1[::2])\n",
    "print(a1[::-1])\n"
   ]
  },
  {
   "cell_type": "markdown",
   "id": "3cb03489-722c-45d1-a841-fc469de78cb5",
   "metadata": {},
   "source": [
    "RESHAPING"
   ]
  },
  {
   "cell_type": "code",
   "execution_count": 15,
   "id": "9288563d-51fe-4bd7-aa35-69bb51a9ad91",
   "metadata": {},
   "outputs": [
    {
     "name": "stdout",
     "output_type": "stream",
     "text": [
      "tf.Tensor([0 1 2 3 4 5 6 7 8], shape=(9,), dtype=int32)\n"
     ]
    }
   ],
   "source": [
    "x=tf.range(9)\n",
    "print(x)"
   ]
  },
  {
   "cell_type": "markdown",
   "id": "a74272bc-1431-4887-97c9-c59c92e0af48",
   "metadata": {},
   "source": [
    "EAGER EXECUTION"
   ]
  },
  {
   "cell_type": "code",
   "execution_count": 16,
   "id": "88d1354f-9955-4b6f-abaa-be448e83516a",
   "metadata": {},
   "outputs": [
    {
     "name": "stdout",
     "output_type": "stream",
     "text": [
      "tf.Tensor(3.4, shape=(), dtype=float32)\n"
     ]
    }
   ],
   "source": [
    "import tensorflow as tf\n",
    "a=tf.constant(1.2)\n",
    "b=tf.constant(2.2)\n",
    "c=a+b\n",
    "print(c)"
   ]
  },
  {
   "cell_type": "code",
   "execution_count": 17,
   "id": "51e7e4a6-6213-4176-9b74-b6a314748fb9",
   "metadata": {},
   "outputs": [
    {
     "name": "stdout",
     "output_type": "stream",
     "text": [
      "tf.Tensor(6.3999996, shape=(), dtype=float32)\n"
     ]
    }
   ],
   "source": [
    "@tf.function\n",
    "def add(a,b):\n",
    "    return a+b\n",
    "a1=tf.constant(2.2)\n",
    "a2=tf.constant(4.2)\n",
    "output=a1+a2\n",
    "print(output)"
   ]
  },
  {
   "cell_type": "markdown",
   "id": "c1309b45-3549-426a-baf6-99789d3c82e8",
   "metadata": {},
   "source": [
    "VARIABLE"
   ]
  },
  {
   "cell_type": "code",
   "execution_count": 21,
   "id": "920f263d-ad31-4f64-8e62-d89d11c20db4",
   "metadata": {},
   "outputs": [
    {
     "name": "stdout",
     "output_type": "stream",
     "text": [
      "<tf.Variable 'Variable:0' shape=() dtype=float32, numpy=2.6000001430511475>\n"
     ]
    }
   ],
   "source": [
    "v=tf.Variable(1.1)\n",
    "v.assign(2.2)\n",
    "v.assign_add(.4)\n",
    "print(v)"
   ]
  },
  {
   "cell_type": "code",
   "execution_count": 24,
   "id": "886c32b5-5fdd-43b9-9c6b-b96beb8a92a9",
   "metadata": {},
   "outputs": [
    {
     "ename": "AttributeError",
     "evalue": "'tensorflow.python.framework.ops.EagerTensor' object has no attribute 'assign_add'",
     "output_type": "error",
     "traceback": [
      "\u001b[0;31m---------------------------------------------------------------------------\u001b[0m",
      "\u001b[0;31mAttributeError\u001b[0m                            Traceback (most recent call last)",
      "Cell \u001b[0;32mIn[24], line 2\u001b[0m\n\u001b[1;32m      1\u001b[0m w\u001b[38;5;241m=\u001b[39mtf\u001b[38;5;241m.\u001b[39mconstant(\u001b[38;5;241m1\u001b[39m)\n\u001b[0;32m----> 2\u001b[0m \u001b[43mw\u001b[49m\u001b[38;5;241;43m.\u001b[39;49m\u001b[43massign_add\u001b[49m(\u001b[38;5;241m3\u001b[39m)\n\u001b[1;32m      3\u001b[0m \u001b[38;5;28mprint\u001b[39m(w)\n",
      "File \u001b[0;32m~/Library/Python/3.9/lib/python/site-packages/tensorflow/python/framework/tensor.py:260\u001b[0m, in \u001b[0;36mTensor.__getattr__\u001b[0;34m(self, name)\u001b[0m\n\u001b[1;32m    252\u001b[0m \u001b[38;5;28;01mif\u001b[39;00m name \u001b[38;5;129;01min\u001b[39;00m {\u001b[38;5;124m\"\u001b[39m\u001b[38;5;124mT\u001b[39m\u001b[38;5;124m\"\u001b[39m, \u001b[38;5;124m\"\u001b[39m\u001b[38;5;124mastype\u001b[39m\u001b[38;5;124m\"\u001b[39m, \u001b[38;5;124m\"\u001b[39m\u001b[38;5;124mravel\u001b[39m\u001b[38;5;124m\"\u001b[39m, \u001b[38;5;124m\"\u001b[39m\u001b[38;5;124mtranspose\u001b[39m\u001b[38;5;124m\"\u001b[39m, \u001b[38;5;124m\"\u001b[39m\u001b[38;5;124mreshape\u001b[39m\u001b[38;5;124m\"\u001b[39m, \u001b[38;5;124m\"\u001b[39m\u001b[38;5;124mclip\u001b[39m\u001b[38;5;124m\"\u001b[39m, \u001b[38;5;124m\"\u001b[39m\u001b[38;5;124msize\u001b[39m\u001b[38;5;124m\"\u001b[39m,\n\u001b[1;32m    253\u001b[0m             \u001b[38;5;124m\"\u001b[39m\u001b[38;5;124mtolist\u001b[39m\u001b[38;5;124m\"\u001b[39m, \u001b[38;5;124m\"\u001b[39m\u001b[38;5;124mdata\u001b[39m\u001b[38;5;124m\"\u001b[39m}:\n\u001b[1;32m    254\u001b[0m   \u001b[38;5;66;03m# TODO(wangpeng): Export the enable_numpy_behavior knob\u001b[39;00m\n\u001b[1;32m    255\u001b[0m   \u001b[38;5;28;01mraise\u001b[39;00m \u001b[38;5;167;01mAttributeError\u001b[39;00m(\n\u001b[1;32m    256\u001b[0m       \u001b[38;5;124mf\u001b[39m\u001b[38;5;124m\"\u001b[39m\u001b[38;5;132;01m{\u001b[39;00m\u001b[38;5;28mtype\u001b[39m(\u001b[38;5;28mself\u001b[39m)\u001b[38;5;241m.\u001b[39m\u001b[38;5;18m__name__\u001b[39m\u001b[38;5;132;01m}\u001b[39;00m\u001b[38;5;124m object has no attribute \u001b[39m\u001b[38;5;124m'\u001b[39m\u001b[38;5;132;01m{\u001b[39;00mname\u001b[38;5;132;01m}\u001b[39;00m\u001b[38;5;124m'\u001b[39m\u001b[38;5;124m. \u001b[39m\u001b[38;5;124m\"\u001b[39m \u001b[38;5;241m+\u001b[39m \u001b[38;5;124m\"\"\"\u001b[39m\n\u001b[1;32m    257\u001b[0m \u001b[38;5;124m    If you are looking for numpy-related methods, please run the following:\u001b[39m\n\u001b[1;32m    258\u001b[0m \u001b[38;5;124m    tf.experimental.numpy.experimental_enable_numpy_behavior()\u001b[39m\n\u001b[1;32m    259\u001b[0m \u001b[38;5;124m  \u001b[39m\u001b[38;5;124m\"\"\"\u001b[39m)\n\u001b[0;32m--> 260\u001b[0m \u001b[38;5;28;43mself\u001b[39;49m\u001b[38;5;241;43m.\u001b[39;49m\u001b[38;5;21;43m__getattribute__\u001b[39;49m\u001b[43m(\u001b[49m\u001b[43mname\u001b[49m\u001b[43m)\u001b[49m\n",
      "\u001b[0;31mAttributeError\u001b[0m: 'tensorflow.python.framework.ops.EagerTensor' object has no attribute 'assign_add'"
     ]
    }
   ],
   "source": [
    "w=tf.constant(1)\n",
    "w.assign(3)\n",
    "print(w)"
   ]
  },
  {
   "cell_type": "code",
   "execution_count": null,
   "id": "4b9389b3-66e4-4456-9dad-01a35931a68e",
   "metadata": {},
   "outputs": [],
   "source": []
  }
 ],
 "metadata": {
  "kernelspec": {
   "display_name": "Python 3 (ipykernel)",
   "language": "python",
   "name": "python3"
  },
  "language_info": {
   "codemirror_mode": {
    "name": "ipython",
    "version": 3
   },
   "file_extension": ".py",
   "mimetype": "text/x-python",
   "name": "python",
   "nbconvert_exporter": "python",
   "pygments_lexer": "ipython3",
   "version": "3.9.6"
  }
 },
 "nbformat": 4,
 "nbformat_minor": 5
}
