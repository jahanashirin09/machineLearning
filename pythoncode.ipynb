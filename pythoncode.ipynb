{
 "cells": [
  {
   "cell_type": "code",
   "execution_count": 1,
   "id": "15aea9b2-b973-4f0b-a359-d676475e1e1a",
   "metadata": {},
   "outputs": [],
   "source": [
    "name=\"jahana\""
   ]
  },
  {
   "cell_type": "code",
   "execution_count": 2,
   "id": "2413768f-c657-438d-9190-cddd455e0de9",
   "metadata": {},
   "outputs": [],
   "source": [
    "age=23"
   ]
  },
  {
   "cell_type": "code",
   "execution_count": 6,
   "id": "fe4d63f0-f58c-49a5-a70a-fb950ed06da1",
   "metadata": {},
   "outputs": [
    {
     "name": "stdout",
     "output_type": "stream",
     "text": [
      "hii i am jahana 23 years old\n"
     ]
    }
   ],
   "source": [
    "print(f\"hii i am {name} {age} years old\")\n"
   ]
  },
  {
   "cell_type": "code",
   "execution_count": 7,
   "id": "07819901-ae1c-4f7b-ab38-be6bc55b9a33",
   "metadata": {},
   "outputs": [
    {
     "name": "stdout",
     "output_type": "stream",
     "text": [
      "hii guys\n"
     ]
    }
   ],
   "source": [
    "print(\"hii guys\")\n"
   ]
  },
  {
   "cell_type": "code",
   "execution_count": null,
   "id": "118f545b-91fa-4476-bbc4-522b7abe5bf4",
   "metadata": {},
   "outputs": [],
   "source": []
  }
 ],
 "metadata": {
  "kernelspec": {
   "display_name": "Python 3 (ipykernel)",
   "language": "python",
   "name": "python3"
  },
  "language_info": {
   "codemirror_mode": {
    "name": "ipython",
    "version": 3
   },
   "file_extension": ".py",
   "mimetype": "text/x-python",
   "name": "python",
   "nbconvert_exporter": "python",
   "pygments_lexer": "ipython3",
   "version": "3.9.6"
  }
 },
 "nbformat": 4,
 "nbformat_minor": 5
}
